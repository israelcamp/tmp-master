{
 "cells": [
  {
   "cell_type": "code",
   "execution_count": 1,
   "metadata": {},
   "outputs": [
    {
     "name": "stderr",
     "output_type": "stream",
     "text": [
      "/home/israel/Mestrado/mscenv/lib/python3.10/site-packages/tqdm/auto.py:21: TqdmWarning: IProgress not found. Please update jupyter and ipywidgets. See https://ipywidgets.readthedocs.io/en/stable/user_install.html\n",
      "  from .autonotebook import tqdm as notebook_tqdm\n"
     ]
    }
   ],
   "source": [
    "import glob\n",
    "import os\n",
    "from PIL import Image\n",
    "import xml.etree.ElementTree as ET\n",
    "\n",
    "from tqdm.auto import tqdm\n",
    "import srsly"
   ]
  },
  {
   "cell_type": "code",
   "execution_count": 2,
   "metadata": {},
   "outputs": [],
   "source": [
    "IMAGES_DIR = \"../data/IIIT5K/IIIT5K/\"\n",
    "TRAIN_PATH = \"../data/IIIT5K/IIIT5K/traindata.mat\"\n",
    "TEST_PATH = \"../data/IIIT5K/IIIT5K/testdata.mat\""
   ]
  },
  {
   "cell_type": "code",
   "execution_count": 32,
   "metadata": {},
   "outputs": [],
   "source": [
    "from scipy.io import loadmat\n",
    "\n",
    "# read .mat files\n",
    "train_data = loadmat(TRAIN_PATH)\n",
    "test_data = loadmat(TEST_PATH)\n"
   ]
  },
  {
   "cell_type": "code",
   "execution_count": 33,
   "metadata": {},
   "outputs": [],
   "source": [
    "train_data = train_data[\"traindata\"][0]\n",
    "train_img, train_label = zip(*[(x[0][0], x[1][0]) for x in train_data])\n",
    "train_data = dict(zip(train_img, train_label))\n",
    "train_data = {\n",
    "    k.split(\"/\")[-1].replace(\".png\", \"\"): v for k,v in train_data.items()\n",
    "}"
   ]
  },
  {
   "cell_type": "code",
   "execution_count": 34,
   "metadata": {},
   "outputs": [],
   "source": [
    "test_data = test_data[\"testdata\"][0]\n",
    "test_img, test_label = zip(*[(x[0][0], x[1][0]) for x in test_data])\n",
    "test_data = dict(zip(test_img, test_label))\n",
    "test_data = {\n",
    "    k.split(\"/\")[-1].replace(\".png\", \"\"): v for k,v in test_data.items()\n",
    "}"
   ]
  },
  {
   "cell_type": "code",
   "execution_count": 35,
   "metadata": {},
   "outputs": [],
   "source": [
    "srsly.write_json(\"../data/IIIT5K/IIIT5K/train.json\", train_data)\n",
    "srsly.write_json(\"../data/IIIT5K/IIIT5K/test.json\", test_data)"
   ]
  },
  {
   "cell_type": "code",
   "execution_count": 36,
   "metadata": {},
   "outputs": [
    {
     "data": {
      "text/plain": [
       "(2000, 3000)"
      ]
     },
     "execution_count": 36,
     "metadata": {},
     "output_type": "execute_result"
    }
   ],
   "source": [
    "len(train_data), len(test_data)"
   ]
  }
 ],
 "metadata": {
  "kernelspec": {
   "display_name": "mscenv",
   "language": "python",
   "name": "python3"
  },
  "language_info": {
   "codemirror_mode": {
    "name": "ipython",
    "version": 3
   },
   "file_extension": ".py",
   "mimetype": "text/x-python",
   "name": "python",
   "nbconvert_exporter": "python",
   "pygments_lexer": "ipython3",
   "version": "3.10.6"
  },
  "orig_nbformat": 4
 },
 "nbformat": 4,
 "nbformat_minor": 2
}
