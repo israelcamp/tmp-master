{
 "cells": [
  {
   "cell_type": "code",
   "execution_count": 2,
   "metadata": {},
   "outputs": [
    {
     "name": "stderr",
     "output_type": "stream",
     "text": [
      "/home/israel/Mestrado/mscenv/lib/python3.10/site-packages/tqdm/auto.py:21: TqdmWarning: IProgress not found. Please update jupyter and ipywidgets. See https://ipywidgets.readthedocs.io/en/stable/user_install.html\n",
      "  from .autonotebook import tqdm as notebook_tqdm\n"
     ]
    }
   ],
   "source": [
    "from tokenizers import Tokenizer\n",
    "from tokenizers.models import BPE\n",
    "from tokenizers.decoders import ByteLevel\n",
    "from tokenizers.processors import TemplateProcessing\n",
    "\n",
    "from transformers import PreTrainedTokenizerFast, Wav2Vec2CTCTokenizer\n",
    "\n",
    "import srsly"
   ]
  },
  {
   "attachments": {},
   "cell_type": "markdown",
   "metadata": {},
   "source": [
    "# Chars"
   ]
  },
  {
   "cell_type": "code",
   "execution_count": 28,
   "metadata": {},
   "outputs": [],
   "source": [
    "trdata = srsly.read_json(\"../data/IAM/data/data.json\")[\"tr\"]\n",
    "texts = [v[\"text\"] for v in trdata.values()]#if not v[\"error\"]]"
   ]
  },
  {
   "cell_type": "code",
   "execution_count": 29,
   "metadata": {},
   "outputs": [],
   "source": [
    "charset = set(\" \".join(texts))"
   ]
  },
  {
   "cell_type": "code",
   "execution_count": 30,
   "metadata": {},
   "outputs": [
    {
     "data": {
      "text/plain": [
       "['O',\n",
       " 'g',\n",
       " 'i',\n",
       " 'e',\n",
       " 'u',\n",
       " 'y',\n",
       " 'x',\n",
       " 't',\n",
       " 'N',\n",
       " '#',\n",
       " 'b',\n",
       " 'Z',\n",
       " 'j',\n",
       " '.',\n",
       " 'S',\n",
       " 'C',\n",
       " 'K',\n",
       " 'U',\n",
       " 'f',\n",
       " 'k',\n",
       " 'd',\n",
       " '/',\n",
       " 'G',\n",
       " '1',\n",
       " ' ',\n",
       " '5',\n",
       " 'm',\n",
       " 'w',\n",
       " 'W',\n",
       " '4',\n",
       " 'D',\n",
       " '8',\n",
       " 'L',\n",
       " ':',\n",
       " 'Q',\n",
       " 'h',\n",
       " '(',\n",
       " '*',\n",
       " '?',\n",
       " 'R',\n",
       " '-',\n",
       " '9',\n",
       " 'n',\n",
       " ';',\n",
       " 's',\n",
       " 'a',\n",
       " 'V',\n",
       " 'r',\n",
       " '!',\n",
       " 'z',\n",
       " 'M',\n",
       " 'E',\n",
       " 'T',\n",
       " 'B',\n",
       " \"'\",\n",
       " '6',\n",
       " 'q',\n",
       " 'v',\n",
       " 'A',\n",
       " 'o',\n",
       " '+',\n",
       " 'Y',\n",
       " 'c',\n",
       " '3',\n",
       " 'F',\n",
       " 'P',\n",
       " '0',\n",
       " 'J',\n",
       " 'I',\n",
       " '&',\n",
       " ')',\n",
       " '7',\n",
       " ',',\n",
       " 'l',\n",
       " '\"',\n",
       " '2',\n",
       " 'H',\n",
       " 'p',\n",
       " 'X']"
      ]
     },
     "execution_count": 30,
     "metadata": {},
     "output_type": "execute_result"
    }
   ],
   "source": [
    "list(charset)"
   ]
  },
  {
   "cell_type": "code",
   "execution_count": 31,
   "metadata": {},
   "outputs": [
    {
     "data": {
      "text/plain": [
       "79"
      ]
     },
     "execution_count": 31,
     "metadata": {},
     "output_type": "execute_result"
    }
   ],
   "source": [
    "len(charset)"
   ]
  },
  {
   "cell_type": "code",
   "execution_count": 32,
   "metadata": {},
   "outputs": [],
   "source": [
    "with open(\"iam-vocab.txt\", \"w\") as f:\n",
    "    f.write(\"\\n\".join(sorted(list(charset))))"
   ]
  },
  {
   "cell_type": "code",
   "execution_count": 33,
   "metadata": {},
   "outputs": [],
   "source": [
    "vocab = {\n",
    "    # \"<blank>\": 0,\n",
    "    \"<pad>\": 0,\n",
    "    \"</s>\": 1,\n",
    "    \"<s>\": 2,\n",
    "    \"<unk>\": 3,\n",
    "    \"<mask>\": 4,\n",
    "}\n",
    "offset = len(vocab)\n",
    "vocab.update({c: i + offset for i, c in enumerate(charset)})"
   ]
  },
  {
   "cell_type": "code",
   "execution_count": 34,
   "metadata": {},
   "outputs": [],
   "source": [
    "srsly.write_json(\"iam-vocab.json\", vocab)"
   ]
  },
  {
   "attachments": {},
   "cell_type": "markdown",
   "metadata": {},
   "source": [
    "# Tokenizer"
   ]
  },
  {
   "cell_type": "code",
   "execution_count": 35,
   "metadata": {},
   "outputs": [],
   "source": [
    "tokenizer = Tokenizer(BPE(vocab, unk_token=\"<unk>\", merges=[]))\n",
    "tokenizer.decoder = ByteLevel()\n",
    "tokenizer.post_processor = TemplateProcessing(\n",
    "    single=\"$A </s>\",\n",
    "    special_tokens=[\n",
    "        (\"</s>\", tokenizer.token_to_id(\"</s>\")),\n",
    "    ],\n",
    ")"
   ]
  },
  {
   "cell_type": "code",
   "execution_count": 36,
   "metadata": {},
   "outputs": [
    {
     "data": {
      "text/plain": [
       "'hello world</s>'"
      ]
     },
     "execution_count": 36,
     "metadata": {},
     "output_type": "execute_result"
    }
   ],
   "source": [
    "tokenizer.decode(tokenizer.encode(\"hello world\").ids)"
   ]
  },
  {
   "cell_type": "code",
   "execution_count": 37,
   "metadata": {},
   "outputs": [
    {
     "data": {
      "text/plain": [
       "[Encoding(num_tokens=12, attributes=[ids, type_ids, tokens, offsets, attention_mask, special_tokens_mask, overflowing]),\n",
       " Encoding(num_tokens=12, attributes=[ids, type_ids, tokens, offsets, attention_mask, special_tokens_mask, overflowing])]"
      ]
     },
     "execution_count": 37,
     "metadata": {},
     "output_type": "execute_result"
    }
   ],
   "source": [
    "tokenizer.encode_batch([\"hello world\", \"hello world\"])"
   ]
  },
  {
   "cell_type": "code",
   "execution_count": 38,
   "metadata": {},
   "outputs": [
    {
     "data": {
      "text/plain": [
       "0"
      ]
     },
     "execution_count": 38,
     "metadata": {},
     "output_type": "execute_result"
    }
   ],
   "source": [
    "tokenizer.add_special_tokens([\"<pad>\", \"</s>\"])"
   ]
  },
  {
   "cell_type": "code",
   "execution_count": 39,
   "metadata": {},
   "outputs": [],
   "source": [
    "tokenizer.save(\"../trainer/iam-tokenizers/tokenizer-pad0.json\")"
   ]
  },
  {
   "cell_type": "code",
   "execution_count": 40,
   "metadata": {},
   "outputs": [],
   "source": [
    "tok = PreTrainedTokenizerFast(tokenizer_file=\"../trainer/iam-tokenizers/tokenizer-pad0.json\")"
   ]
  },
  {
   "cell_type": "code",
   "execution_count": 41,
   "metadata": {},
   "outputs": [
    {
     "data": {
      "text/plain": [
       "0"
      ]
     },
     "execution_count": 41,
     "metadata": {},
     "output_type": "execute_result"
    }
   ],
   "source": [
    "tok.add_special_tokens({\"pad_token\": \"<pad>\", \"eos_token\": \"</s>\"})"
   ]
  },
  {
   "cell_type": "code",
   "execution_count": 42,
   "metadata": {},
   "outputs": [],
   "source": [
    "inputs = tok.batch_encode_plus([\"hello world\".upper(), \"hello world ausha\".upper()], padding=\"longest\", return_tensors=\"pt\")"
   ]
  },
  {
   "cell_type": "code",
   "execution_count": 43,
   "metadata": {},
   "outputs": [
    {
     "data": {
      "text/plain": [
       "['HELLO WORLD', 'HELLO WORLD AUSHA']"
      ]
     },
     "execution_count": 43,
     "metadata": {},
     "output_type": "execute_result"
    }
   ],
   "source": [
    "tok.batch_decode(inputs.input_ids, skip_special_tokens=True)"
   ]
  },
  {
   "cell_type": "code",
   "execution_count": 44,
   "metadata": {},
   "outputs": [
    {
     "data": {
      "text/plain": [
       "('../trainer/iam-tokenizers/tokenizer-pad0/tokenizer_config.json',\n",
       " '../trainer/iam-tokenizers/tokenizer-pad0/special_tokens_map.json',\n",
       " '../trainer/iam-tokenizers/tokenizer-pad0/tokenizer.json')"
      ]
     },
     "execution_count": 44,
     "metadata": {},
     "output_type": "execute_result"
    }
   ],
   "source": [
    "tok.save_pretrained(\"../trainer/iam-tokenizers/tokenizer-pad0\")"
   ]
  },
  {
   "cell_type": "code",
   "execution_count": 45,
   "metadata": {},
   "outputs": [
    {
     "data": {
      "text/plain": [
       "(0, 1)"
      ]
     },
     "execution_count": 45,
     "metadata": {},
     "output_type": "execute_result"
    }
   ],
   "source": [
    "tok.pad_token_id, tok.eos_token_id"
   ]
  },
  {
   "attachments": {},
   "cell_type": "markdown",
   "metadata": {},
   "source": [
    "# Word2VecCTCTokenizer - NOPE"
   ]
  },
  {
   "cell_type": "code",
   "execution_count": 18,
   "metadata": {},
   "outputs": [],
   "source": [
    "tokenizer = Wav2Vec2CTCTokenizer(vocab_file=\"vocab.json\", word_delimiter_token=\"|\")"
   ]
  },
  {
   "cell_type": "code",
   "execution_count": 19,
   "metadata": {},
   "outputs": [],
   "source": [
    "inputs = tokenizer.batch_encode_plus([\"hello world\".upper(), \"hello world ausha\".upper()], padding=\"longest\", return_tensors=\"pt\")"
   ]
  },
  {
   "cell_type": "code",
   "execution_count": 20,
   "metadata": {},
   "outputs": [
    {
     "data": {
      "text/plain": [
       "['HELO WORLD', 'HELO WORLD AUSHA']"
      ]
     },
     "execution_count": 20,
     "metadata": {},
     "output_type": "execute_result"
    }
   ],
   "source": [
    "tokenizer.batch_decode(inputs.input_ids, skip_special_tokens=True)"
   ]
  },
  {
   "cell_type": "code",
   "execution_count": null,
   "metadata": {},
   "outputs": [],
   "source": []
  }
 ],
 "metadata": {
  "kernelspec": {
   "display_name": "mscenv",
   "language": "python",
   "name": "python3"
  },
  "language_info": {
   "codemirror_mode": {
    "name": "ipython",
    "version": 3
   },
   "file_extension": ".py",
   "mimetype": "text/x-python",
   "name": "python",
   "nbconvert_exporter": "python",
   "pygments_lexer": "ipython3",
   "version": "3.10.6"
  },
  "orig_nbformat": 4
 },
 "nbformat": 4,
 "nbformat_minor": 2
}
