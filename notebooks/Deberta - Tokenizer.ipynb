{
 "cells": [
  {
   "cell_type": "code",
   "execution_count": 1,
   "metadata": {},
   "outputs": [
    {
     "name": "stderr",
     "output_type": "stream",
     "text": [
      "/Users/israelcampiotti/Documents/Github/msc/tmp-master/mscenv/lib/python3.9/site-packages/tqdm/auto.py:21: TqdmWarning: IProgress not found. Please update jupyter and ipywidgets. See https://ipywidgets.readthedocs.io/en/stable/user_install.html\n",
      "  from .autonotebook import tqdm as notebook_tqdm\n"
     ]
    }
   ],
   "source": [
    "from tokenizers import Tokenizer\n",
    "from tokenizers.models import BPE\n",
    "from tokenizers.decoders import ByteLevel\n",
    "from tokenizers.processors import TemplateProcessing\n",
    "\n",
    "from transformers import PreTrainedTokenizerFast, Wav2Vec2CTCTokenizer\n",
    "\n",
    "import srsly"
   ]
  },
  {
   "attachments": {},
   "cell_type": "markdown",
   "metadata": {},
   "source": [
    "# Chars"
   ]
  },
  {
   "cell_type": "code",
   "execution_count": 3,
   "metadata": {},
   "outputs": [],
   "source": [
    "texts = list(srsly.read_json(\"../SROIETask2/data.json\").values())"
   ]
  },
  {
   "cell_type": "code",
   "execution_count": 4,
   "metadata": {},
   "outputs": [],
   "source": [
    "charset = set(\" \".join(texts))"
   ]
  },
  {
   "cell_type": "code",
   "execution_count": 5,
   "metadata": {},
   "outputs": [
    {
     "data": {
      "text/plain": [
       "['<',\n",
       " '9',\n",
       " 'M',\n",
       " 'Z',\n",
       " ':',\n",
       " '/',\n",
       " '7',\n",
       " 'G',\n",
       " 'Y',\n",
       " 'V',\n",
       " '%',\n",
       " '1',\n",
       " '&',\n",
       " '4',\n",
       " '_',\n",
       " 'T',\n",
       " '*',\n",
       " 'I',\n",
       " 'C',\n",
       " 'B',\n",
       " '.',\n",
       " 'K',\n",
       " '·',\n",
       " '-',\n",
       " ',',\n",
       " 'Q',\n",
       " '+',\n",
       " 'D',\n",
       " '{',\n",
       " '[',\n",
       " 'R',\n",
       " '#',\n",
       " 'X',\n",
       " 'F',\n",
       " 'W',\n",
       " '!',\n",
       " 'O',\n",
       " '8',\n",
       " 'U',\n",
       " '5',\n",
       " '2',\n",
       " 'l',\n",
       " '@',\n",
       " 'S',\n",
       " ' ',\n",
       " 'N',\n",
       " '$',\n",
       " '0',\n",
       " '6',\n",
       " ';',\n",
       " 'r',\n",
       " '~',\n",
       " ')',\n",
       " '}',\n",
       " '(',\n",
       " 'L',\n",
       " '?',\n",
       " 'A',\n",
       " '^',\n",
       " \"'\",\n",
       " '>',\n",
       " '|',\n",
       " 'J',\n",
       " 'H',\n",
       " '`',\n",
       " '\"',\n",
       " 'P',\n",
       " '\\\\',\n",
       " '3',\n",
       " 'E',\n",
       " ']',\n",
       " '=']"
      ]
     },
     "execution_count": 5,
     "metadata": {},
     "output_type": "execute_result"
    }
   ],
   "source": [
    "list(charset)"
   ]
  },
  {
   "cell_type": "code",
   "execution_count": 6,
   "metadata": {},
   "outputs": [],
   "source": [
    "with open(\"vocab.txt\", \"w\") as f:\n",
    "    f.write(\"\\n\".join(sorted(list(charset))))"
   ]
  },
  {
   "cell_type": "code",
   "execution_count": 7,
   "metadata": {},
   "outputs": [],
   "source": [
    "vocab = {\n",
    "    \"<blank>\": 0,\n",
    "    \"<pad>\": 1,\n",
    "    \"<unk>\": 2,\n",
    "    \"<s>\": 3,\n",
    "    \"</s>\": 4,\n",
    "    \"<mask>\": 5,\n",
    "}\n",
    "vocab.update({c: i + 6 for i, c in enumerate(charset)})"
   ]
  },
  {
   "cell_type": "code",
   "execution_count": 8,
   "metadata": {},
   "outputs": [],
   "source": [
    "srsly.write_json(\"vocab.json\", vocab)"
   ]
  },
  {
   "attachments": {},
   "cell_type": "markdown",
   "metadata": {},
   "source": [
    "# Tokenizer"
   ]
  },
  {
   "cell_type": "code",
   "execution_count": 9,
   "metadata": {},
   "outputs": [],
   "source": [
    "tokenizer = Tokenizer(BPE(vocab, unk_token=\"<unk>\", merges=[]))\n",
    "tokenizer.decoder = ByteLevel()\n",
    "# tokenizer.post_processor = TemplateProcessing(\n",
    "#     single=\"$A </s>\",\n",
    "#     special_tokens=[\n",
    "#         (\"</s>\", tokenizer.token_to_id(\"</s>\")),\n",
    "#     ],\n",
    "# )"
   ]
  },
  {
   "cell_type": "code",
   "execution_count": 10,
   "metadata": {},
   "outputs": [
    {
     "data": {
      "text/plain": [
       "'HELLO WORLD'"
      ]
     },
     "execution_count": 10,
     "metadata": {},
     "output_type": "execute_result"
    }
   ],
   "source": [
    "tokenizer.decode(tokenizer.encode(\"hello world\".upper()).ids)"
   ]
  },
  {
   "cell_type": "code",
   "execution_count": 11,
   "metadata": {},
   "outputs": [
    {
     "data": {
      "text/plain": [
       "[Encoding(num_tokens=11, attributes=[ids, type_ids, tokens, offsets, attention_mask, special_tokens_mask, overflowing]),\n",
       " Encoding(num_tokens=11, attributes=[ids, type_ids, tokens, offsets, attention_mask, special_tokens_mask, overflowing])]"
      ]
     },
     "execution_count": 11,
     "metadata": {},
     "output_type": "execute_result"
    }
   ],
   "source": [
    "tokenizer.encode_batch([\"hello world\", \"hello world\"])"
   ]
  },
  {
   "cell_type": "code",
   "execution_count": 12,
   "metadata": {},
   "outputs": [
    {
     "data": {
      "text/plain": [
       "0"
      ]
     },
     "execution_count": 12,
     "metadata": {},
     "output_type": "execute_result"
    }
   ],
   "source": [
    "tokenizer.add_special_tokens([\"<pad>\", \"</s>\"])"
   ]
  },
  {
   "cell_type": "code",
   "execution_count": 13,
   "metadata": {},
   "outputs": [],
   "source": [
    "tokenizer.save(\"../trainer/tokenizer-noeos.json\")"
   ]
  },
  {
   "cell_type": "code",
   "execution_count": 14,
   "metadata": {},
   "outputs": [],
   "source": [
    "tok = PreTrainedTokenizerFast(tokenizer_file=\"../trainer/tokenizer-noeos.json\")"
   ]
  },
  {
   "cell_type": "code",
   "execution_count": 15,
   "metadata": {},
   "outputs": [
    {
     "data": {
      "text/plain": [
       "0"
      ]
     },
     "execution_count": 15,
     "metadata": {},
     "output_type": "execute_result"
    }
   ],
   "source": [
    "tok.add_special_tokens({\"pad_token\": \"<pad>\", \"eos_token\": \"</s>\"})"
   ]
  },
  {
   "cell_type": "code",
   "execution_count": 16,
   "metadata": {},
   "outputs": [],
   "source": [
    "inputs = tok.batch_encode_plus([\"hello world\".upper(), \"hello world ausha\".upper()], padding=\"longest\", return_tensors=\"pt\")"
   ]
  },
  {
   "cell_type": "code",
   "execution_count": 17,
   "metadata": {},
   "outputs": [
    {
     "data": {
      "text/plain": [
       "['HELLO WORLD', 'HELLO WORLD AUSHA']"
      ]
     },
     "execution_count": 17,
     "metadata": {},
     "output_type": "execute_result"
    }
   ],
   "source": [
    "tok.batch_decode(inputs.input_ids, skip_special_tokens=True)"
   ]
  },
  {
   "cell_type": "code",
   "execution_count": 18,
   "metadata": {},
   "outputs": [
    {
     "data": {
      "text/plain": [
       "('../trainer/tokenizer-noeos/tokenizer_config.json',\n",
       " '../trainer/tokenizer-noeos/special_tokens_map.json',\n",
       " '../trainer/tokenizer-noeos/tokenizer.json')"
      ]
     },
     "execution_count": 18,
     "metadata": {},
     "output_type": "execute_result"
    }
   ],
   "source": [
    "tok.save_pretrained(\"../trainer/tokenizer-noeos\")"
   ]
  },
  {
   "attachments": {},
   "cell_type": "markdown",
   "metadata": {},
   "source": [
    "# Word2VecCTCTokenizer - NOPE"
   ]
  },
  {
   "cell_type": "code",
   "execution_count": 18,
   "metadata": {},
   "outputs": [],
   "source": [
    "tokenizer = Wav2Vec2CTCTokenizer(vocab_file=\"vocab.json\", word_delimiter_token=\"|\")"
   ]
  },
  {
   "cell_type": "code",
   "execution_count": 19,
   "metadata": {},
   "outputs": [],
   "source": [
    "inputs = tokenizer.batch_encode_plus([\"hello world\".upper(), \"hello world ausha\".upper()], padding=\"longest\", return_tensors=\"pt\")"
   ]
  },
  {
   "cell_type": "code",
   "execution_count": 20,
   "metadata": {},
   "outputs": [
    {
     "data": {
      "text/plain": [
       "['HELO WORLD', 'HELO WORLD AUSHA']"
      ]
     },
     "execution_count": 20,
     "metadata": {},
     "output_type": "execute_result"
    }
   ],
   "source": [
    "tokenizer.batch_decode(inputs.input_ids, skip_special_tokens=True)"
   ]
  },
  {
   "cell_type": "code",
   "execution_count": null,
   "metadata": {},
   "outputs": [],
   "source": []
  }
 ],
 "metadata": {
  "kernelspec": {
   "display_name": "mscenv",
   "language": "python",
   "name": "python3"
  },
  "language_info": {
   "codemirror_mode": {
    "name": "ipython",
    "version": 3
   },
   "file_extension": ".py",
   "mimetype": "text/x-python",
   "name": "python",
   "nbconvert_exporter": "python",
   "pygments_lexer": "ipython3",
   "version": "3.9.6"
  },
  "orig_nbformat": 4
 },
 "nbformat": 4,
 "nbformat_minor": 2
}
