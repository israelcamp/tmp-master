{
 "cells": [
  {
   "cell_type": "code",
   "execution_count": 1,
   "metadata": {},
   "outputs": [],
   "source": [
    "CODE_PATH = \"../trainer\""
   ]
  },
  {
   "cell_type": "code",
   "execution_count": 2,
   "metadata": {},
   "outputs": [],
   "source": [
    "import sys\n",
    "sys.path.append(CODE_PATH)"
   ]
  },
  {
   "cell_type": "code",
   "execution_count": 3,
   "metadata": {},
   "outputs": [
    {
     "name": "stderr",
     "output_type": "stream",
     "text": [
      "/home/israel/Mestrado/mscenv/lib/python3.10/site-packages/tqdm/auto.py:21: TqdmWarning: IProgress not found. Please update jupyter and ipywidgets. See https://ipywidgets.readthedocs.io/en/stable/user_install.html\n",
      "  from .autonotebook import tqdm as notebook_tqdm\n"
     ]
    }
   ],
   "source": [
    "import os\n",
    "from PIL import Image\n",
    "\n",
    "from tqdm.auto import tqdm\n",
    "import torch\n",
    "import torchvision as tv\n",
    "from transformers import AutoTokenizer\n",
    "\n",
    "from ignite.engine import (\n",
    "    Engine,\n",
    "    Events,\n",
    ")\n",
    "from ignite.handlers import Checkpoint\n",
    "from ignite.contrib.handlers import global_step_from_engine\n",
    "from ignite.contrib.handlers import ProgressBar\n",
    "from ignite.contrib.handlers.neptune_logger import NeptuneLogger"
   ]
  },
  {
   "attachments": {},
   "cell_type": "markdown",
   "metadata": {},
   "source": [
    "# Dataset"
   ]
  },
  {
   "cell_type": "code",
   "execution_count": 4,
   "metadata": {},
   "outputs": [],
   "source": [
    "class SynthDataset(torch.utils.data.Dataset):\n",
    "    def __init__(self, images_dir, annotation_file, height=32):\n",
    "        self.images_dir = images_dir\n",
    "        self.annotation_file = annotation_file\n",
    "        self.image_files = self._load_data()\n",
    "        self.height = height\n",
    "\n",
    "    def _load_data(self):\n",
    "        with open(self.annotation_file, \"r\") as f:\n",
    "            lines = f.read().splitlines()\n",
    "\n",
    "        image_files = [line.split(\" \")[0] for line in lines]\n",
    "        return image_files\n",
    "    \n",
    "    def __len__(self):\n",
    "        return len(self.image_files)\n",
    "\n",
    "    def __getitem__(self, idx):\n",
    "        image_file = self.image_files[idx]\n",
    "        label = image_file.split(\"_\")[1]\n",
    "        image_path = os.path.join(self.images_dir, image_file)\n",
    "        \n",
    "        image = Image.open(image_path).convert(\"L\")\n",
    "        w, h = image.size\n",
    "        ratio = w / float(h)\n",
    "        nw = round(self.height * ratio)\n",
    "\n",
    "        image = image.resize((nw, self.height), Image.BICUBIC)\n",
    "\n",
    "        return image, label    \n",
    "    "
   ]
  },
  {
   "cell_type": "code",
   "execution_count": 6,
   "metadata": {},
   "outputs": [],
   "source": [
    "IMAGES_DIR = \"../data/synth/mnt/90kDICT32px/\"\n",
    "TRAIN_ANNOTATION_FILE = \"../data/synth/mnt/annotation_train_good.txt\"\n",
    "VAL_ANNOTATION_FILE = \"../data/synth/mnt/annotation_val_good.txt\""
   ]
  },
  {
   "cell_type": "code",
   "execution_count": 7,
   "metadata": {},
   "outputs": [],
   "source": [
    "train_dataset = SynthDataset(IMAGES_DIR, TRAIN_ANNOTATION_FILE)\n",
    "val_dataset = SynthDataset(IMAGES_DIR, VAL_ANNOTATION_FILE)"
   ]
  },
  {
   "cell_type": "code",
   "execution_count": 8,
   "metadata": {},
   "outputs": [
    {
     "name": "stderr",
     "output_type": "stream",
     "text": [
      "100%|██████████| 7224379/7224379 [25:43<00:00, 4679.56it/s]  \n"
     ]
    }
   ],
   "source": [
    "max_width = 0\n",
    "max_heigth = 0\n",
    "max_w_image = None\n",
    "max_h_image = None\n",
    "for image_file in tqdm(train_dataset.image_files):\n",
    "    image_path = os.path.join(IMAGES_DIR, image_file)\n",
    "    try:\n",
    "        image = Image.open(image_path).convert(\"L\")\n",
    "    except:\n",
    "        continue\n",
    "    else:\n",
    "        w, h = image.size\n",
    "        if w > max_width:\n",
    "            max_width = w\n",
    "            max_w_image = image_file\n",
    "        if h > max_heigth:\n",
    "            max_heigth = h\n",
    "            max_h_image = image_file"
   ]
  },
  {
   "cell_type": "code",
   "execution_count": 9,
   "metadata": {},
   "outputs": [
    {
     "data": {
      "text/plain": [
       "(799,\n",
       " 32,\n",
       " './1619/5/67_pulchritudinous_61162.jpg',\n",
       " './2425/1/104_SYSTEMICALLY_77086.jpg')"
      ]
     },
     "execution_count": 9,
     "metadata": {},
     "output_type": "execute_result"
    }
   ],
   "source": [
    "max_width, max_heigth, max_w_image, max_h_image"
   ]
  },
  {
   "cell_type": "code",
   "execution_count": null,
   "metadata": {},
   "outputs": [],
   "source": []
  }
 ],
 "metadata": {
  "kernelspec": {
   "display_name": "mscenv",
   "language": "python",
   "name": "python3"
  },
  "language_info": {
   "codemirror_mode": {
    "name": "ipython",
    "version": 3
   },
   "file_extension": ".py",
   "mimetype": "text/x-python",
   "name": "python",
   "nbconvert_exporter": "python",
   "pygments_lexer": "ipython3",
   "version": "3.10.6"
  },
  "orig_nbformat": 4
 },
 "nbformat": 4,
 "nbformat_minor": 2
}
