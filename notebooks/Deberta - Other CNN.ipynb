{
 "cells": [
  {
   "cell_type": "code",
   "execution_count": 1,
   "metadata": {},
   "outputs": [],
   "source": [
    "import sys\n",
    "sys.path.append(\"../trainer\")"
   ]
  },
  {
   "cell_type": "code",
   "execution_count": 2,
   "metadata": {},
   "outputs": [
    {
     "name": "stderr",
     "output_type": "stream",
     "text": [
      "/Users/israelcampiotti/Documents/Github/msc/tmp-master/plenv/lib/python3.9/site-packages/tqdm/auto.py:21: TqdmWarning: IProgress not found. Please update jupyter and ipywidgets. See https://ipywidgets.readthedocs.io/en/stable/user_install.html\n",
      "  from .autonotebook import tqdm as notebook_tqdm\n"
     ]
    }
   ],
   "source": [
    "import os\n",
    "\n",
    "import torch\n",
    "import torchvision as tv\n",
    "from transformers import AutoTokenizer"
   ]
  },
  {
   "cell_type": "code",
   "execution_count": 3,
   "metadata": {},
   "outputs": [],
   "source": [
    "from datamodule import SROIETask2DataModule\n",
    "from model import TransformersEncoder\n",
    "from cnn import CNN as VisualModel\n",
    "from ctc import GreedyDecoder"
   ]
  },
  {
   "cell_type": "code",
   "execution_count": 4,
   "metadata": {},
   "outputs": [],
   "source": [
    "tokenizer = AutoTokenizer.from_pretrained(\"../trainer/tokenizer\")"
   ]
  },
  {
   "cell_type": "code",
   "execution_count": 5,
   "metadata": {},
   "outputs": [],
   "source": [
    "DATA_PATH = \"../SROIETask2\"\n",
    "dm = SROIETask2DataModule(\n",
    "    root_dir=os.path.join(DATA_PATH, \"data\"),\n",
    "    label_file=os.path.join(DATA_PATH, \"data.json\"),\n",
    "    tokenizer=tokenizer,\n",
    "    height=32,\n",
    "    num_workers=4,\n",
    "    train_bs=2,\n",
    "    valid_bs=2,\n",
    "    max_width=None,\n",
    "    do_pool=True,\n",
    ")"
   ]
  },
  {
   "cell_type": "code",
   "execution_count": 6,
   "metadata": {},
   "outputs": [],
   "source": [
    "dm.setup(\"fit\")"
   ]
  },
  {
   "cell_type": "code",
   "execution_count": 7,
   "metadata": {},
   "outputs": [
    {
     "name": "stdout",
     "output_type": "stream",
     "text": [
      "huggingface/tokenizers: The current process just got forked, after parallelism has already been used. Disabling parallelism to avoid deadlocks...\n",
      "To disable this warning, you can either:\n",
      "\t- Avoid using `tokenizers` before the fork if possible\n",
      "\t- Explicitly set the environment variable TOKENIZERS_PARALLELISM=(true | false)\n",
      "huggingface/tokenizers: The current process just got forked, after parallelism has already been used. Disabling parallelism to avoid deadlocks...\n",
      "To disable this warning, you can either:\n",
      "\t- Avoid using `tokenizers` before the fork if possible\n",
      "\t- Explicitly set the environment variable TOKENIZERS_PARALLELISM=(true | false)\n",
      "huggingface/tokenizers: The current process just got forked, after parallelism has already been used. Disabling parallelism to avoid deadlocks...\n",
      "To disable this warning, you can either:\n",
      "\t- Avoid using `tokenizers` before the fork if possible\n",
      "\t- Explicitly set the environment variable TOKENIZERS_PARALLELISM=(true | false)\n",
      "huggingface/tokenizers: The current process just got forked, after parallelism has already been used. Disabling parallelism to avoid deadlocks...\n",
      "To disable this warning, you can either:\n",
      "\t- Avoid using `tokenizers` before the fork if possible\n",
      "\t- Explicitly set the environment variable TOKENIZERS_PARALLELISM=(true | false)\n"
     ]
    }
   ],
   "source": [
    "batch = next(iter(dm.val_dataloader()))"
   ]
  },
  {
   "cell_type": "code",
   "execution_count": 8,
   "metadata": {},
   "outputs": [],
   "source": [
    "images, labels, attention_mask, attention_image = batch"
   ]
  },
  {
   "cell_type": "code",
   "execution_count": 9,
   "metadata": {},
   "outputs": [
    {
     "data": {
      "text/plain": [
       "(torch.Size([2, 3, 32, 234]),\n",
       " torch.Size([2, 19]),\n",
       " torch.Size([2, 19]),\n",
       " torch.Size([2, 57]))"
      ]
     },
     "execution_count": 9,
     "metadata": {},
     "output_type": "execute_result"
    }
   ],
   "source": [
    "images.shape, labels.shape, attention_mask.shape, attention_image.shape"
   ]
  },
  {
   "cell_type": "code",
   "execution_count": 10,
   "metadata": {},
   "outputs": [
    {
     "data": {
      "text/plain": [
       "['RESTORAN WAN SHENG', '002043319-W']"
      ]
     },
     "execution_count": 10,
     "metadata": {},
     "output_type": "execute_result"
    }
   ],
   "source": [
    "tokenizer.batch_decode(labels, skip_special_tokens=True)"
   ]
  },
  {
   "cell_type": "code",
   "execution_count": 11,
   "metadata": {},
   "outputs": [
    {
     "data": {
      "image/png": "[encoded data removed]",
      "text/plain": [
       "<PIL.Image.Image image mode=RGB size=474x36>"
      ]
     },
     "execution_count": 11,
     "metadata": {},
     "output_type": "execute_result"
    }
   ],
   "source": [
    "# create a grid using torchvision.utils.make_grid to display images\n",
    "grid = tv.utils.make_grid(images, nrow=2)\n",
    "# display images in grid\n",
    "tv.transforms.ToPILImage()(grid)"
   ]
  },
  {
   "attachments": {},
   "cell_type": "markdown",
   "metadata": {},
   "source": [
    "# Tr model"
   ]
  },
  {
   "cell_type": "code",
   "execution_count": 12,
   "metadata": {},
   "outputs": [],
   "source": [
    "from transformers import DebertaV2ForTokenClassification, DebertaV2Config\n",
    "\n",
    "\n",
    "class TransformersEncoder(torch.nn.Module):\n",
    "    def __init__(self, vocab_size: int = 100):\n",
    "        super().__init__()\n",
    "\n",
    "        config_dict = {\n",
    "            \"model_type\": \"deberta-v2\",\n",
    "            \"architectures\": [\"DebertaV2ForTokenClassification\"],\n",
    "            \"num_labels\": vocab_size,\n",
    "            \"model_type\": \"deberta-v2\",\n",
    "            \"attention_probs_dropout_prob\": 0.25,\n",
    "            \"hidden_act\": \"gelu\",\n",
    "            \"hidden_dropout_prob\": 0.25,\n",
    "            \"hidden_size\": 512,\n",
    "            \"initializer_range\": 0.02,\n",
    "            \"intermediate_size\": 768,  # 3072,\n",
    "            \"max_position_embeddings\": 512,\n",
    "            \"relative_attention\": True,\n",
    "            \"position_buckets\": 256,\n",
    "            \"norm_rel_ebd\": \"layer_norm\",\n",
    "            \"share_att_key\": True,\n",
    "            \"pos_att_type\": \"p2c|c2p\",\n",
    "            \"layer_norm_eps\": 1e-7,\n",
    "            \"max_relative_positions\": -1,\n",
    "            \"position_biased_input\": False,\n",
    "            \"num_attention_heads\": 8,\n",
    "            \"num_hidden_layers\": 3,\n",
    "            \"type_vocab_size\": 0,\n",
    "            \"pad_token_id\": 1,\n",
    "            \"vocab_size\": vocab_size,\n",
    "        }\n",
    "        config = DebertaV2Config(**config_dict)\n",
    "        self.encoder = DebertaV2ForTokenClassification(config)\n",
    "\n",
    "    def forward(self, image_embeddings, attention_mask=None):\n",
    "        outputs = self.encoder(\n",
    "            inputs_embeds=image_embeddings, attention_mask=attention_mask\n",
    "        )\n",
    "        return outputs.logits\n",
    "\n",
    "rec_model = TransformersEncoder(vocab_size=tokenizer.vocab_size)"
   ]
  },
  {
   "attachments": {},
   "cell_type": "markdown",
   "metadata": {},
   "source": [
    "# Visual Model"
   ]
  },
  {
   "cell_type": "code",
   "execution_count": 13,
   "metadata": {},
   "outputs": [],
   "source": [
    "from torch import nn\n",
    "\n",
    "class Swish(nn.Module):\n",
    "    def forward(self, x):\n",
    "        return x * torch.sigmoid(x)\n",
    "\n",
    "\n",
    "class Feature2Embedding(nn.Module):\n",
    "    \"\"\"\n",
    "    Convert [B, C, H, W] image feature tensor to [B, seq_len, D] (B, 512, 512)\n",
    "    (B, C, H, W) -> (B, W, H, C)\n",
    "    \"\"\"\n",
    "\n",
    "    def forward(self, x):\n",
    "        n, c, h, w = x.shape\n",
    "        return x.permute(0, 3, 2, 1).reshape(n, -1, c)\n",
    "\n",
    "\n",
    "class ImageFeatureExtractor(nn.Module):\n",
    "    def __init__(self, imgH=32, nc=3, vocab_size=100):\n",
    "        super(ImageFeatureExtractor, self).__init__()\n",
    "        assert imgH % 16 == 0, \"imgH has to be a multiple of 16\"\n",
    "\n",
    "        ks = [3, 3, 3, 3, 3, 3, 2]\n",
    "        ps = [1, 1, 1, 1, 1, 1, 0]\n",
    "        ss = [1, 1, 1, 1, 1, 1, 1]\n",
    "        nm = [64, 128, 256, 256, 512, 512, 512]\n",
    "\n",
    "        cnn = nn.Sequential()\n",
    "\n",
    "        def convSwish(i, batchNormalization=False):\n",
    "            nIn = nc if i == 0 else nm[i - 1]\n",
    "            nOut = nm[i]\n",
    "            cnn.add_module(\n",
    "                \"conv{0}\".format(i), nn.Conv2d(nIn, nOut, ks[i], ss[i], ps[i])\n",
    "            )\n",
    "            if batchNormalization:\n",
    "                cnn.add_module(\"batchnorm{0}\".format(i), nn.BatchNorm2d(nOut))\n",
    "            cnn.add_module(\"swish{0}\".format(i), Swish())\n",
    "\n",
    "        \"\"\"\n",
    "            MaxPool Kernel per Height:\n",
    "            32: (2,2) -> (2,2) -> (2,1) -> (2,1)\n",
    "            64: (4,4) -> (2,2) -> (2,1) -> (2,1)\n",
    "            128: (4,4) -> (4,4) -> (2,1) -> (2,1)\n",
    "            256: (4,4) -> (4,4) -> (4,2) -> (2,1)\n",
    "        \"\"\"\n",
    "        maxpoolargs_per_size = {\n",
    "            16: ((2, 2), (2, (2, 1)), (2, 1), (1, 1)),\n",
    "            32: ((2, 2), (2, 2), (2, 1), (2, 1)),\n",
    "            64: ((4, 4), (2, 2), (2, 1), (2, 1)),\n",
    "            128: ((4, 4), (4, 4), (2, 1), (2, 1)),\n",
    "            256: ((4, 4), (4, 4), (4, 2), (2, 1)),\n",
    "        }\n",
    "        args = maxpoolargs_per_size[imgH]\n",
    "        convSwish(0)\n",
    "        cnn.add_module(\"pooling{0}\".format(0), nn.MaxPool2d(*args[0]))  # 64x16x64\n",
    "        convSwish(1)\n",
    "        cnn.add_module(\"pooling{0}\".format(1), nn.MaxPool2d(*args[1]))  # 128x8x32\n",
    "        convSwish(2, False)\n",
    "        convSwish(3)\n",
    "        cnn.add_module(\n",
    "            \"pooling{0}\".format(2), nn.MaxPool2d(args[2], args[2])\n",
    "        )  # , (0, 1)))  # 256x4x16\n",
    "        convSwish(4, True)\n",
    "        convSwish(5, True)\n",
    "        cnn.add_module(\n",
    "            \"pooling{0}\".format(3), nn.MaxPool2d(args[3], args[3])\n",
    "        )  # , (0, 1)))  # 512x2x16\n",
    "        convSwish(6, False)  # 512x1x16\n",
    "\n",
    "        self.cnn = cnn\n",
    "        self.lm_head = nn.Linear(512, vocab_size, bias=False)\n",
    "\n",
    "    def forward(self, input, *args, **kwargs):\n",
    "        # conv features\n",
    "        image_features = self.image_features(input)\n",
    "        return self.lm_head(image_features)\n",
    "\n",
    "    def image_features(self, input, *args, **kwargs):\n",
    "        conv = self.cnn(input)\n",
    "        b, c, h, w = conv.size()\n",
    "        assert h == 1, f\"the height of conv must be 1, shape is {conv.shape}\"\n",
    "        conv = conv.squeeze(2).permute(0, 2, 1)\n",
    "        return conv"
   ]
  },
  {
   "cell_type": "code",
   "execution_count": 14,
   "metadata": {},
   "outputs": [],
   "source": [
    "vis_model = ImageFeatureExtractor(imgH=32, nc=3, vocab_size=tokenizer.vocab_size)"
   ]
  },
  {
   "cell_type": "code",
   "execution_count": 18,
   "metadata": {},
   "outputs": [
    {
     "data": {
      "text/plain": [
       "(torch.Size([2, 57, 512]), torch.Size([2, 58]))"
      ]
     },
     "execution_count": 18,
     "metadata": {},
     "output_type": "execute_result"
    }
   ],
   "source": [
    "image_features.shape, attention_image.shape"
   ]
  },
  {
   "cell_type": "code",
   "execution_count": 15,
   "metadata": {},
   "outputs": [
    {
     "data": {
      "text/plain": [
       "(torch.Size([2, 57, 512]), torch.Size([2, 57, 78]))"
      ]
     },
     "execution_count": 15,
     "metadata": {},
     "output_type": "execute_result"
    }
   ],
   "source": [
    "image_features = vis_model.image_features(images)\n",
    "logits = rec_model(image_features, attention_image)\n",
    "image_features.shape, logits.shape"
   ]
  },
  {
   "cell_type": "code",
   "execution_count": null,
   "metadata": {},
   "outputs": [],
   "source": []
  }
 ],
 "metadata": {
  "kernelspec": {
   "display_name": "mscenv",
   "language": "python",
   "name": "python3"
  },
  "language_info": {
   "codemirror_mode": {
    "name": "ipython",
    "version": 3
   },
   "file_extension": ".py",
   "mimetype": "text/x-python",
   "name": "python",
   "nbconvert_exporter": "python",
   "pygments_lexer": "ipython3",
   "version": "3.9.6"
  },
  "orig_nbformat": 4
 },
 "nbformat": 4,
 "nbformat_minor": 2
}
