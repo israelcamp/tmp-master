{
 "cells": [
  {
   "cell_type": "code",
   "execution_count": 3,
   "metadata": {},
   "outputs": [],
   "source": [
    "CODE_PATH = \"../trainer\""
   ]
  },
  {
   "cell_type": "code",
   "execution_count": 4,
   "metadata": {},
   "outputs": [],
   "source": [
    "import sys\n",
    "sys.path.append(CODE_PATH)"
   ]
  },
  {
   "cell_type": "code",
   "execution_count": 5,
   "metadata": {},
   "outputs": [],
   "source": [
    "import os\n",
    "from PIL import Image\n",
    "\n",
    "from tqdm.auto import tqdm\n",
    "import torch\n",
    "import torchvision as tv\n",
    "from transformers import AutoTokenizer\n",
    "\n",
    "from ignite.engine import (\n",
    "    Engine,\n",
    "    Events,\n",
    ")\n",
    "from ignite.handlers import Checkpoint\n",
    "from ignite.contrib.handlers import global_step_from_engine\n",
    "from ignite.contrib.handlers import ProgressBar\n",
    "from ignite.contrib.handlers.neptune_logger import NeptuneLogger"
   ]
  },
  {
   "attachments": {},
   "cell_type": "markdown",
   "metadata": {},
   "source": [
    "# Dataset"
   ]
  },
  {
   "cell_type": "code",
   "execution_count": 6,
   "metadata": {},
   "outputs": [],
   "source": [
    "class SynthDataset(torch.utils.data.Dataset):\n",
    "    def __init__(self, images_dir, annotation_file, height=32):\n",
    "        self.images_dir = images_dir\n",
    "        self.annotation_file = annotation_file\n",
    "        self.image_files = self._load_data()\n",
    "        self.height = height\n",
    "\n",
    "    def _load_data(self):\n",
    "        with open(self.annotation_file, \"r\") as f:\n",
    "            lines = f.read().splitlines()\n",
    "\n",
    "        image_files = [line.split(\" \")[0] for line in lines]\n",
    "        return image_files\n",
    "    \n",
    "    def __len__(self):\n",
    "        return len(self.image_files)\n",
    "\n",
    "    def __getitem__(self, idx):\n",
    "        image_file = self.image_files[idx]\n",
    "        label = image_file.split(\"_\")[1]\n",
    "        image_path = os.path.join(self.images_dir, image_file)\n",
    "        \n",
    "        image = Image.open(image_path).convert(\"L\")\n",
    "        w, h = image.size\n",
    "        ratio = w / float(h)\n",
    "        nw = round(self.height * ratio)\n",
    "\n",
    "        image = image.resize((nw, self.height), Image.BICUBIC)\n",
    "\n",
    "        return image, label    \n",
    "    "
   ]
  },
  {
   "cell_type": "code",
   "execution_count": 7,
   "metadata": {},
   "outputs": [],
   "source": [
    "IMAGES_DIR = \"../data/synth/mnt/90kDICT32px/\"\n",
    "TRAIN_ANNOTATION_FILE = \"../data/synth/mnt/annotation_train.txt\"\n",
    "VAL_ANNOTATION_FILE = \"../data/synth/mnt/annotation_val.txt\""
   ]
  },
  {
   "cell_type": "code",
   "execution_count": 8,
   "metadata": {},
   "outputs": [],
   "source": [
    "train_dataset = SynthDataset(IMAGES_DIR, TRAIN_ANNOTATION_FILE)\n",
    "val_dataset = SynthDataset(IMAGES_DIR, VAL_ANNOTATION_FILE)"
   ]
  },
  {
   "cell_type": "code",
   "execution_count": 10,
   "metadata": {},
   "outputs": [
    {
     "name": "stderr",
     "output_type": "stream",
     "text": [
      "100%|██████████| 7224612/7224612 [23:50<00:00, 5048.81it/s]\n"
     ]
    }
   ],
   "source": [
    "good_image_files = []\n",
    "bad_image_files = []\n",
    "for image_file in tqdm(train_dataset.image_files):\n",
    "    image_path = os.path.join(IMAGES_DIR, image_file)\n",
    "    try:\n",
    "        image = Image.open(image_path).convert(\"L\")\n",
    "    except:\n",
    "        bad_image_files.append(image_file)\n",
    "    else:\n",
    "        good_image_files.append(image_file)"
   ]
  },
  {
   "cell_type": "code",
   "execution_count": 13,
   "metadata": {},
   "outputs": [],
   "source": [
    "with open(\"../data/synth/mnt/annotation_train_good.txt\", \"w\") as f:\n",
    "    f.write(\"\\n\".join(good_image_files))"
   ]
  },
  {
   "cell_type": "code",
   "execution_count": 14,
   "metadata": {},
   "outputs": [
    {
     "name": "stderr",
     "output_type": "stream",
     "text": [
      "100%|██████████| 802734/802734 [02:51<00:00, 4680.67it/s]\n"
     ]
    }
   ],
   "source": [
    "# do the same process for val dataset\n",
    "good_image_files = []\n",
    "bad_image_files = []\n",
    "for image_file in tqdm(val_dataset.image_files):\n",
    "    image_path = os.path.join(IMAGES_DIR, image_file)\n",
    "    try:\n",
    "        image = Image.open(image_path).convert(\"L\")\n",
    "    except:\n",
    "        bad_image_files.append(image_file)\n",
    "    else:\n",
    "        good_image_files.append(image_file)\n",
    "    \n",
    "with open(\"../data/synth/mnt/annotation_val_good.txt\", \"w\") as f:\n",
    "    f.write(\"\\n\".join(good_image_files))"
   ]
  },
  {
   "cell_type": "code",
   "execution_count": 15,
   "metadata": {},
   "outputs": [
    {
     "data": {
      "text/plain": [
       "(802731, 3)"
      ]
     },
     "execution_count": 15,
     "metadata": {},
     "output_type": "execute_result"
    }
   ],
   "source": [
    "len(good_image_files), len(bad_image_files)"
   ]
  },
  {
   "cell_type": "code",
   "execution_count": null,
   "metadata": {},
   "outputs": [],
   "source": []
  }
 ],
 "metadata": {
  "kernelspec": {
   "display_name": "mscenv",
   "language": "python",
   "name": "python3"
  },
  "language_info": {
   "codemirror_mode": {
    "name": "ipython",
    "version": 3
   },
   "file_extension": ".py",
   "mimetype": "text/x-python",
   "name": "python",
   "nbconvert_exporter": "python",
   "pygments_lexer": "ipython3",
   "version": "3.10.6"
  },
  "orig_nbformat": 4
 },
 "nbformat": 4,
 "nbformat_minor": 2
}
