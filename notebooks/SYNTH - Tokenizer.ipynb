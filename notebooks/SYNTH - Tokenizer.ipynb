{
 "cells": [
  {
   "cell_type": "code",
   "execution_count": 1,
   "metadata": {},
   "outputs": [],
   "source": [
    "from PIL import Image\n",
    "import os\n",
    "\n",
    "import srsly"
   ]
  },
  {
   "cell_type": "code",
   "execution_count": 2,
   "metadata": {},
   "outputs": [],
   "source": [
    "ROOT_DIR = \"../data/synth/mnt/\"\n",
    "IMAGES_DIR = ROOT_DIR + \"90kDICT32px/\"\n",
    "train_file = ROOT_DIR + \"annotation_train.txt\""
   ]
  },
  {
   "cell_type": "code",
   "execution_count": 3,
   "metadata": {},
   "outputs": [],
   "source": [
    "def labels_from_file(file):\n",
    "    with open(file, \"r\") as f:\n",
    "        lines = f.read().splitlines()\n",
    "\n",
    "    image_files = [line.split(\" \")[0] for line in lines]\n",
    "\n",
    "    labels = [line.split(\"_\")[1] for line in lines]\n",
    "    return labels"
   ]
  },
  {
   "cell_type": "code",
   "execution_count": 4,
   "metadata": {},
   "outputs": [],
   "source": [
    "labels = labels_from_file(train_file)"
   ]
  },
  {
   "cell_type": "code",
   "execution_count": 5,
   "metadata": {},
   "outputs": [],
   "source": [
    "chars = set()\n",
    "for label in labels:\n",
    "    for char in label:\n",
    "        chars.add(char)"
   ]
  },
  {
   "cell_type": "code",
   "execution_count": 6,
   "metadata": {},
   "outputs": [],
   "source": [
    "chars = sorted(list(chars))"
   ]
  },
  {
   "cell_type": "code",
   "execution_count": 7,
   "metadata": {},
   "outputs": [],
   "source": [
    "with open(\"synth-vocab.txt\", \"w\") as f:\n",
    "    f.write(\"\\n\".join(chars))"
   ]
  },
  {
   "cell_type": "code",
   "execution_count": 13,
   "metadata": {},
   "outputs": [],
   "source": [
    "vocab = {\n",
    "    # \"<blank>\": 0,\n",
    "    \"<pad>\": 0,\n",
    "    \"</s>\": 1,\n",
    "    \"<s>\": 2,\n",
    "    \"<unk>\": 3,\n",
    "    \"<mask>\": 4,\n",
    "    \" \": 5,\n",
    "}\n",
    "offset = len(vocab) + 1\n",
    "vocab.update({c: i + offset for i, c in enumerate(chars)})"
   ]
  },
  {
   "cell_type": "code",
   "execution_count": 14,
   "metadata": {},
   "outputs": [],
   "source": [
    "srsly.write_json(\"synth-vocab.json\", vocab)"
   ]
  },
  {
   "cell_type": "code",
   "execution_count": 15,
   "metadata": {},
   "outputs": [],
   "source": [
    "from tokenizers import Tokenizer\n",
    "from tokenizers.models import BPE\n",
    "from tokenizers.decoders import ByteLevel\n",
    "from tokenizers.processors import TemplateProcessing\n",
    "\n",
    "from transformers import PreTrainedTokenizerFast\n",
    "\n",
    "import srsly"
   ]
  },
  {
   "cell_type": "code",
   "execution_count": 16,
   "metadata": {},
   "outputs": [],
   "source": [
    "tokenizer = Tokenizer(BPE(vocab, unk_token=\"<unk>\", merges=[]))\n",
    "tokenizer.decoder = ByteLevel()\n",
    "tokenizer.post_processor = TemplateProcessing(\n",
    "    single=\"$A\" #</s>\",\n",
    "    # special_tokens=[\n",
    "    #     (\"</s>\", tokenizer.token_to_id(\"</s>\")),\n",
    "    # ],\n",
    ")"
   ]
  },
  {
   "cell_type": "code",
   "execution_count": 17,
   "metadata": {},
   "outputs": [
    {
     "data": {
      "text/plain": [
       "'HELLO WORLD'"
      ]
     },
     "execution_count": 17,
     "metadata": {},
     "output_type": "execute_result"
    }
   ],
   "source": [
    "tokenizer.decode(tokenizer.encode(\"hello world\".upper()).ids)"
   ]
  },
  {
   "cell_type": "code",
   "execution_count": 18,
   "metadata": {},
   "outputs": [
    {
     "data": {
      "text/plain": [
       "[Encoding(num_tokens=11, attributes=[ids, type_ids, tokens, offsets, attention_mask, special_tokens_mask, overflowing]),\n",
       " Encoding(num_tokens=11, attributes=[ids, type_ids, tokens, offsets, attention_mask, special_tokens_mask, overflowing])]"
      ]
     },
     "execution_count": 18,
     "metadata": {},
     "output_type": "execute_result"
    }
   ],
   "source": [
    "tokenizer.encode_batch([\"hello world\", \"hello world\"])"
   ]
  },
  {
   "cell_type": "code",
   "execution_count": 19,
   "metadata": {},
   "outputs": [
    {
     "data": {
      "text/plain": [
       "0"
      ]
     },
     "execution_count": 19,
     "metadata": {},
     "output_type": "execute_result"
    }
   ],
   "source": [
    "tokenizer.add_special_tokens([\"<pad>\", \"</s>\"])"
   ]
  },
  {
   "cell_type": "code",
   "execution_count": 20,
   "metadata": {},
   "outputs": [
    {
     "name": "stdout",
     "output_type": "stream",
     "text": [
      "The OrderedVocab you are attempting to save contains a hole for index 6, your vocabulary could be corrupted !\n"
     ]
    }
   ],
   "source": [
    "tokenizer.save(\"../trainer/synth-tokenizers/tokenizer-pad0.json\")"
   ]
  },
  {
   "cell_type": "code",
   "execution_count": 21,
   "metadata": {},
   "outputs": [],
   "source": [
    "tok = PreTrainedTokenizerFast(tokenizer_file=\"../trainer/synth-tokenizers/tokenizer-pad0.json\")"
   ]
  },
  {
   "cell_type": "code",
   "execution_count": 22,
   "metadata": {},
   "outputs": [
    {
     "data": {
      "text/plain": [
       "0"
      ]
     },
     "execution_count": 22,
     "metadata": {},
     "output_type": "execute_result"
    }
   ],
   "source": [
    "tok.add_special_tokens({\"pad_token\": \"<pad>\", \"eos_token\": \"</s>\"})"
   ]
  },
  {
   "cell_type": "code",
   "execution_count": 23,
   "metadata": {},
   "outputs": [],
   "source": [
    "inputs = tok.batch_encode_plus([\"hello world\".upper(), \"hello world ausha\".upper()], padding=\"longest\", return_tensors=\"pt\")"
   ]
  },
  {
   "cell_type": "code",
   "execution_count": 24,
   "metadata": {},
   "outputs": [
    {
     "data": {
      "text/plain": [
       "['HELLO WORLD', 'HELLO WORLD AUSHA']"
      ]
     },
     "execution_count": 24,
     "metadata": {},
     "output_type": "execute_result"
    }
   ],
   "source": [
    "tok.batch_decode(inputs.input_ids, skip_special_tokens=True)"
   ]
  },
  {
   "cell_type": "code",
   "execution_count": 25,
   "metadata": {},
   "outputs": [
    {
     "name": "stdout",
     "output_type": "stream",
     "text": [
      "The OrderedVocab you are attempting to save contains a hole for index 6, your vocabulary could be corrupted !\n"
     ]
    },
    {
     "data": {
      "text/plain": [
       "('../trainer/synth-tokenizers/tokenizer-pad0/tokenizer_config.json',\n",
       " '../trainer/synth-tokenizers/tokenizer-pad0/special_tokens_map.json',\n",
       " '../trainer/synth-tokenizers/tokenizer-pad0/tokenizer.json')"
      ]
     },
     "execution_count": 25,
     "metadata": {},
     "output_type": "execute_result"
    }
   ],
   "source": [
    "tok.save_pretrained(\"../trainer/synth-tokenizers/tokenizer-pad0\")"
   ]
  },
  {
   "cell_type": "code",
   "execution_count": null,
   "metadata": {},
   "outputs": [
    {
     "data": {
      "text/plain": [
       "(0, 1)"
      ]
     },
     "metadata": {},
     "output_type": "display_data"
    }
   ],
   "source": [
    "tok.pad_token_id, tok.eos_token_id"
   ]
  }
 ],
 "metadata": {
  "kernelspec": {
   "display_name": "mscenv",
   "language": "python",
   "name": "python3"
  },
  "language_info": {
   "codemirror_mode": {
    "name": "ipython",
    "version": 3
   },
   "file_extension": ".py",
   "mimetype": "text/x-python",
   "name": "python",
   "nbconvert_exporter": "python",
   "pygments_lexer": "ipython3",
   "version": "3.10.6"
  },
  "orig_nbformat": 4
 },
 "nbformat": 4,
 "nbformat_minor": 2
}
