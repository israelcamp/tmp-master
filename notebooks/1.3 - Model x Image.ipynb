{
 "cells": [
  {
   "cell_type": "code",
   "execution_count": 1,
   "metadata": {},
   "outputs": [],
   "source": [
    "from functools import reduce\n",
    "from itertools import product\n",
    "import os\n",
    "import json"
   ]
  },
  {
   "cell_type": "code",
   "execution_count": 2,
   "metadata": {},
   "outputs": [],
   "source": [
    "HEIGHT2STRIDE = {\n",
    "    # 16: [2] * 4 + [1],\n",
    "    32: [2] * 5,\n",
    "    64: [4] + [2] * 4,\n",
    "    128: [4] * 2 + [2] * 3,\n",
    "    256: [4] * 3 + [2] * 2,\n",
    "    # 512: [4] * 4 + [2] * 1, \n",
    "}\n",
    "\n",
    "for k, v in HEIGHT2STRIDE.items():\n",
    "    assert reduce(lambda x, y: x*y, v) == k"
   ]
  },
  {
   "cell_type": "code",
   "execution_count": 3,
   "metadata": {},
   "outputs": [
    {
     "data": {
      "text/plain": [
       "61"
      ]
     },
     "execution_count": 3,
     "metadata": {},
     "output_type": "execute_result"
    }
   ],
   "source": [
    "vocab = open('vocab.txt').read().splitlines()\n",
    "vocab_size = len(vocab)\n",
    "vocab_size"
   ]
  },
  {
   "cell_type": "code",
   "execution_count": 4,
   "metadata": {},
   "outputs": [],
   "source": [
    "MODEL_IMG_SIZE = 128\n",
    "DATA_IMG_SIZE = 64"
   ]
  },
  {
   "cell_type": "code",
   "execution_count": 5,
   "metadata": {},
   "outputs": [],
   "source": [
    "def load_train_val_labels(img_size):\n",
    "    with open(\"size2labels.json\", 'rb') as f:\n",
    "        size2labels = json.load(f)\n",
    "    labels = size2labels[str(img_size)]\n",
    "    val_labels = {k:v for k, v in labels.items() if int(k) < 100}\n",
    "    train_labels = {k:v for k, v in labels.items() if int(k) >= 100}\n",
    "    return train_labels, val_labels"
   ]
  },
  {
   "attachments": {},
   "cell_type": "markdown",
   "metadata": {},
   "source": [
    "# Dataset"
   ]
  },
  {
   "cell_type": "code",
   "execution_count": 6,
   "metadata": {},
   "outputs": [],
   "source": [
    "from torch.utils.data import Dataset, DataLoader\n",
    "import torchvision as tv\n",
    "from PIL import Image"
   ]
  },
  {
   "cell_type": "code",
   "execution_count": 7,
   "metadata": {},
   "outputs": [],
   "source": [
    "class SimpleDataset(Dataset):\n",
    "    def __init__(self, images_path, labels, image_size):\n",
    "        self.images_path = images_path\n",
    "        self.labels = labels\n",
    "        self.image_size = image_size\n",
    "        self.keys = sorted(list(labels.keys()))\n",
    "\n",
    "    def __len__(self):\n",
    "        return len(self.keys)\n",
    "\n",
    "    def __getitem__(self, idx):\n",
    "        idx = self.keys[idx]\n",
    "        image_path = os.path.join(self.images_path, f'{idx}.png')\n",
    "        image = Image.open(image_path)\n",
    "        image = image.convert('RGB')\n",
    "\n",
    "        aspect_ratio = image.width / image.height\n",
    "        if aspect_ratio > 1:\n",
    "            image = image.resize((int(self.image_size * aspect_ratio), self.image_size))\n",
    "        else:\n",
    "            image = image.resize((int(self.image_size * (1+aspect_ratio)), self.image_size))\n",
    "        \n",
    "        image = tv.transforms.ToTensor()(image)\n",
    "        \n",
    "        label = self.labels[str(idx)]\n",
    "        return image, label"
   ]
  },
  {
   "cell_type": "code",
   "execution_count": 8,
   "metadata": {},
   "outputs": [],
   "source": [
    "def prepare_dataloders(data_size, model_size):\n",
    "    train_labels, val_labels = load_train_val_labels(data_size)\n",
    "    train_dataset = SimpleDataset(f'images_size/size={data_size}/', train_labels, model_size)\n",
    "    val_dataset = SimpleDataset(f'images_size/size={data_size}/', val_labels, model_size)\n",
    "    train_loader = DataLoader(train_dataset, batch_size=1, shuffle=True)\n",
    "    val_loader = DataLoader(val_dataset, batch_size=1, shuffle=False)\n",
    "    return train_loader, val_loader"
   ]
  },
  {
   "attachments": {},
   "cell_type": "markdown",
   "metadata": {},
   "source": [
    "# Model"
   ]
  },
  {
   "cell_type": "code",
   "execution_count": 9,
   "metadata": {},
   "outputs": [],
   "source": [
    "import torch\n",
    "\n",
    "from convmaxpool import ConvOCRMaxPool\n",
    "from ctc import GreedyCTCDecoder\n",
    "from metrics import compute_f1, compute_exact"
   ]
  },
  {
   "cell_type": "code",
   "execution_count": 10,
   "metadata": {},
   "outputs": [],
   "source": [
    "decoder = GreedyCTCDecoder()"
   ]
  },
  {
   "cell_type": "code",
   "execution_count": 11,
   "metadata": {},
   "outputs": [],
   "source": [
    "device = torch.device('cuda' if torch.cuda.is_available() else 'cpu')"
   ]
  },
  {
   "cell_type": "code",
   "execution_count": 12,
   "metadata": {},
   "outputs": [],
   "source": [
    "def prepare_batch(batch):\n",
    "    images, texts = batch\n",
    "    images = images.to(device)\n",
    "\n",
    "    y = [[\n",
    "        vocab.index(t) for t in txt\n",
    "    ] for txt in texts]\n",
    "    y = torch.tensor(y, dtype=torch.long).to(device)\n",
    "\n",
    "    return images, texts, y"
   ]
  },
  {
   "cell_type": "code",
   "execution_count": 13,
   "metadata": {},
   "outputs": [],
   "source": [
    "def get_ctc_loss(logits, y):\n",
    "    logits = logits.permute(1, 0, 2).log_softmax(2)\n",
    "    input_lengths = torch.full(\n",
    "        size=(logits.size(1),),\n",
    "        fill_value=logits.size(0),\n",
    "        dtype=torch.int32,\n",
    "    )\n",
    "    target_lengths = torch.full(\n",
    "        size=(y.size(0),),\n",
    "        fill_value=y.size(1),\n",
    "        dtype=torch.int32,\n",
    "    )\n",
    "    criterion = torch.nn.CTCLoss(zero_infinity=True)\n",
    "    loss = criterion(logits, y, input_lengths, target_lengths)\n",
    "    return loss"
   ]
  },
  {
   "cell_type": "code",
   "execution_count": 14,
   "metadata": {},
   "outputs": [],
   "source": [
    "def get_predictions(logits):\n",
    "    yp = logits.argmax(-1)\n",
    "    pt = []\n",
    "    for row in yp:\n",
    "        predictions = decoder(row, None)\n",
    "        pt.append(''.join(vocab[p] for p in predictions))\n",
    "    return pt"
   ]
  },
  {
   "cell_type": "code",
   "execution_count": 15,
   "metadata": {},
   "outputs": [],
   "source": [
    "def prepare_model(img_size):\n",
    "    model = CRNN(imgH=img_size, vocab_size=vocab_size)\n",
    "    state_dict = torch.load(f'cnn_size={img_size}.pth')\n",
    "    model.load_state_dict(state_dict)\n",
    "    _ = model.to(device)\n",
    "    return model"
   ]
  },
  {
   "cell_type": "code",
   "execution_count": 19,
   "metadata": {},
   "outputs": [
    {
     "name": "stdout",
     "output_type": "stream",
     "text": [
      "32x32: loss=0.7514, f1=0.7902, em=0.6900\n",
      "32x64: loss=1.3441, f1=0.5123, em=0.3700\n",
      "32x128: loss=3.0073, f1=0.1633, em=0.0600\n",
      "32x256: loss=4.2309, f1=0.1077, em=0.0300\n",
      "64x32: loss=3.7291, f1=0.2556, em=0.1700\n",
      "64x64: loss=0.3344, f1=0.8463, em=0.7800\n",
      "64x128: loss=0.5547, f1=0.7963, em=0.7100\n",
      "64x256: loss=0.6999, f1=0.7753, em=0.6600\n",
      "128x32: loss=9.7491, f1=0.0142, em=0.0000\n",
      "128x64: loss=1.1583, f1=0.5725, em=0.4600\n",
      "128x128: loss=0.3225, f1=0.8334, em=0.7200\n",
      "128x256: loss=0.4512, f1=0.8200, em=0.7300\n",
      "256x32: loss=9.7236, f1=0.0079, em=0.0000\n",
      "256x64: loss=2.5019, f1=0.1245, em=0.0600\n",
      "256x128: loss=0.7123, f1=0.6485, em=0.4900\n",
      "256x256: loss=0.2333, f1=0.7689, em=0.6500\n"
     ]
    }
   ],
   "source": [
    "size2size = {}\n",
    "sizes = sorted(list(HEIGHT2STRIDE.keys()))\n",
    "for model_size, data_size in product(sizes, sizes):\n",
    "    # if model_size == data_size:\n",
    "    #     continue\n",
    "\n",
    "    model = prepare_model(model_size)\n",
    "    _, val_loader = prepare_dataloders(data_size, model_size)\n",
    "\n",
    "    model.eval()\n",
    "    with torch.no_grad():\n",
    "        val_losses = []\n",
    "        val_f1 = []\n",
    "        val_em = []\n",
    "        for batch in val_loader:\n",
    "            images, texts, y = prepare_batch(batch)\n",
    "            logits = model(images)\n",
    "            pt = get_predictions(logits)\n",
    "            loss = get_ctc_loss(logits, y)\n",
    "\n",
    "            val_losses.append(loss.item())\n",
    "            for t, p in zip(texts, pt):\n",
    "                val_f1.append(compute_f1(t, p))\n",
    "                val_em.append(compute_exact(t, p))\n",
    "    key = f'{model_size}x{data_size}'\n",
    "    size2size[key] = {}\n",
    "    size2size[key][\"loss\"] = sum(val_losses) / len(val_losses)\n",
    "    size2size[key][\"f1\"] = sum(val_f1) / len(val_f1)\n",
    "    size2size[key][\"em\"] = sum(val_em) / len(val_em)\n",
    "    print(f'{key}: loss={size2size[key][\"loss\"]:.4f}, f1={size2size[key][\"f1\"]:.4f}, em={size2size[key][\"em\"]:.4f}')"
   ]
  },
  {
   "cell_type": "code",
   "execution_count": 20,
   "metadata": {},
   "outputs": [],
   "source": [
    "with open('size2size.json', 'w') as f:\n",
    "    json.dump(size2size, f)"
   ]
  },
  {
   "attachments": {},
   "cell_type": "markdown",
   "metadata": {},
   "source": [
    "# Plotting"
   ]
  },
  {
   "cell_type": "code",
   "execution_count": 35,
   "metadata": {},
   "outputs": [],
   "source": [
    "import matplotlib.pyplot as plt\n",
    "import seaborn as sns"
   ]
  },
  {
   "cell_type": "code",
   "execution_count": 48,
   "metadata": {},
   "outputs": [],
   "source": [
    "sns.set_style(\"whitegrid\")"
   ]
  },
  {
   "cell_type": "code",
   "execution_count": 54,
   "metadata": {},
   "outputs": [
    {
     "data": {
      "image/png": "[encoded data removed]",
      "text/plain": [
       "<Figure size 2000x500 with 4 Axes>"
      ]
     },
     "metadata": {},
     "output_type": "display_data"
    }
   ],
   "source": [
    "fig, axs = plt.subplots(1, 4, figsize=(20, 5), sharey=True)\n",
    "fig.canvas.draw()\n",
    "for size, ax in zip(sizes, axs.flatten()):\n",
    "    reference_perfomance = size2size[f'{size}x{size}']\n",
    "    reference_f1 = reference_perfomance[\"f1\"]\n",
    "    other_f1_performance = [size2size[f'{size}x{other_size}'][\"f1\"]/reference_f1 for other_size in sizes if other_size != size]\n",
    "    sns.barplot(x=list(range(len(other_f1_performance))), y=other_f1_performance, ax=ax, color='blue')\n",
    "    ax.set_xticklabels([s for s in sizes if s != size])\n",
    "    ax.set_title(f'{size}')"
   ]
  },
  {
   "cell_type": "code",
   "execution_count": 55,
   "metadata": {},
   "outputs": [
    {
     "data": {
      "image/png": "[encoded data removed]",
      "text/plain": [
       "<Figure size 2000x500 with 4 Axes>"
      ]
     },
     "metadata": {},
     "output_type": "display_data"
    }
   ],
   "source": [
    "fig, axs = plt.subplots(1, 4, figsize=(20, 5), sharey=True)\n",
    "fig.canvas.draw()\n",
    "for size, ax in zip(sizes, axs.flatten()):\n",
    "    reference_perfomance = size2size[f'{size}x{size}']\n",
    "    reference_em = reference_perfomance[\"em\"]\n",
    "    other_em_performance = [size2size[f'{size}x{other_size}'][\"em\"]/reference_em for other_size in sizes if other_size != size]\n",
    "    sns.barplot(x=list(range(len(other_em_performance))), y=other_em_performance, ax=ax, color='blue')\n",
    "    ax.set_xticklabels([s for s in sizes if s != size])\n",
    "    ax.set_title(f'{size}')"
   ]
  },
  {
   "cell_type": "code",
   "execution_count": null,
   "metadata": {},
   "outputs": [],
   "source": []
  }
 ],
 "metadata": {
  "kernelspec": {
   "display_name": "mscenv",
   "language": "python",
   "name": "python3"
  },
  "language_info": {
   "codemirror_mode": {
    "name": "ipython",
    "version": 3
   },
   "file_extension": ".py",
   "mimetype": "text/x-python",
   "name": "python",
   "nbconvert_exporter": "python",
   "pygments_lexer": "ipython3",
   "version": "3.10.6"
  },
  "orig_nbformat": 4
 },
 "nbformat": 4,
 "nbformat_minor": 2
}
