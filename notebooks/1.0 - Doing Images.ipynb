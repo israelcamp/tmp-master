{
 "cells": [
  {
   "cell_type": "code",
   "execution_count": 3,
   "metadata": {},
   "outputs": [],
   "source": [
    "from pathlib import Path\n",
    "import random\n",
    "import json\n",
    "from collections import defaultdict\n",
    "\n",
    "from trdg.generators import GeneratorFromStrings"
   ]
  },
  {
   "cell_type": "code",
   "execution_count": 2,
   "metadata": {},
   "outputs": [],
   "source": [
    "random.seed(42)\n",
    "with open(\"data.json\", 'rb') as f:\n",
    "    data = json.load(f)\n",
    "strings = sorted(list(set([v for v in data.values()])))\n",
    "strings = random.sample(strings, k=1_000)"
   ]
  },
  {
   "cell_type": "code",
   "execution_count": 4,
   "metadata": {},
   "outputs": [
    {
     "name": "stdout",
     "output_type": "stream",
     "text": [
      "ValueError: L\n"
     ]
    }
   ],
   "source": [
    "size2labels = defaultdict(dict)\n",
    "for size in [16, 32, 64, 128, 256, 512]:\n",
    "    generator = GeneratorFromStrings(strings=strings, count=1_000, size=size, language='en', background_type=1)\n",
    "\n",
    "    for idx, (image, label) in enumerate(generator):\n",
    "        try:\n",
    "            imagepath = Path(f'images_size/size={size}/{idx}.png')\n",
    "            imagepath.parent.mkdir(parents=True, exist_ok=True)\n",
    "            image.save(imagepath, format='PNG')\n",
    "            size2labels[size][idx] = label\n",
    "        except:\n",
    "            print(f'ValueError: {label}')\n",
    "\n",
    "with open(f'size2labels.json', 'w') as f:\n",
    "    json.dump(size2labels, f)\n"
   ]
  },
  {
   "cell_type": "code",
   "execution_count": 7,
   "metadata": {},
   "outputs": [],
   "source": [
    "vocab = size2labels[32].values()\n",
    "vocab = ''.join(sorted(set(''.join(vocab))))"
   ]
  },
  {
   "cell_type": "code",
   "execution_count": 11,
   "metadata": {},
   "outputs": [],
   "source": [
    "vocab = ['blank'] + list(vocab)\n",
    "with open('vocab.txt', 'w') as f:\n",
    "    f.write('\\n'.join(vocab))"
   ]
  },
  {
   "cell_type": "code",
   "execution_count": null,
   "metadata": {},
   "outputs": [],
   "source": []
  }
 ],
 "metadata": {
  "kernelspec": {
   "display_name": "mscenv",
   "language": "python",
   "name": "python3"
  },
  "language_info": {
   "codemirror_mode": {
    "name": "ipython",
    "version": 3
   },
   "file_extension": ".py",
   "mimetype": "text/x-python",
   "name": "python",
   "nbconvert_exporter": "python",
   "pygments_lexer": "ipython3",
   "version": "3.10.6"
  },
  "orig_nbformat": 4
 },
 "nbformat": 4,
 "nbformat_minor": 2
}
